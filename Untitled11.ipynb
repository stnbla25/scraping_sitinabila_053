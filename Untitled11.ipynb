{
 "cells": [
  {
   "cell_type": "code",
   "execution_count": 3,
   "id": "4c99c1b9",
   "metadata": {},
   "outputs": [],
   "source": [
    "import requests\n",
    "from bs4 import BeautifulSoup\n",
    "import pandas as pd"
   ]
  },
  {
   "cell_type": "code",
   "execution_count": 4,
   "id": "cd1b7099",
   "metadata": {},
   "outputs": [],
   "source": [
    "page = requests.get('https://www.worldometers.info/coronavirus/country/singapore/')"
   ]
  },
  {
   "cell_type": "code",
   "execution_count": 5,
   "id": "ed6d1ab3",
   "metadata": {},
   "outputs": [],
   "source": [
    "response = requests.get('https://www.worldometers.info/coronavirus/country/singapore/')"
   ]
  },
  {
   "cell_type": "code",
   "execution_count": 6,
   "id": "54f0f7f1",
   "metadata": {},
   "outputs": [],
   "source": [
    "soup = BeautifulSoup(response.content, 'html.parser')"
   ]
  },
  {
   "cell_type": "code",
   "execution_count": 7,
   "id": "115cb6c2",
   "metadata": {},
   "outputs": [],
   "source": [
    "data_entries = soup.find_all(id='maincounter-wrap')"
   ]
  },
  {
   "cell_type": "code",
   "execution_count": 8,
   "id": "4fc2f82a",
   "metadata": {},
   "outputs": [
    {
     "data": {
      "text/plain": [
       "[<div id=\"maincounter-wrap\" style=\"margin-top:15px\">\n",
       " <h1>Coronavirus Cases:</h1>\n",
       " <div class=\"maincounter-number\">\n",
       " <span style=\"color:#aaa\">2,481,404        </span>\n",
       " </div>\n",
       " </div>,\n",
       " <div id=\"maincounter-wrap\" style=\"margin-top:15px\">\n",
       " <h1>Deaths:</h1>\n",
       " <div class=\"maincounter-number\">\n",
       " <span>1,727</span>\n",
       " </div>\n",
       " </div>,\n",
       " <div id=\"maincounter-wrap\" style=\"margin-top:15px;\">\n",
       " <h1>Recovered:</h1>\n",
       " <div class=\"maincounter-number\" style=\"color:#8ACA2B \">\n",
       " <span>2,149,583</span>\n",
       " </div>\n",
       " </div>,\n",
       " <div id=\"maincounter-wrap\" style=\"margin-top:20px;\">\n",
       " <a href=\"#graph-cases-daily\" style=\"font-size:14px;\">Daily Cases Graph</a> - <a href=\"#graph-deaths-daily\" style=\"font-size:14px;\">Daily Deaths Graph</a>\n",
       " </div>]"
      ]
     },
     "execution_count": 8,
     "metadata": {},
     "output_type": "execute_result"
    }
   ],
   "source": [
    "data_entries"
   ]
  },
  {
   "cell_type": "code",
   "execution_count": 9,
   "id": "527d21f0",
   "metadata": {},
   "outputs": [],
   "source": [
    "coronavirus_cases = []\n",
    "deaths = []\n",
    "recovered = []\n",
    "for entry in data_entries:\n",
    "    coronavirus_cases_element = entry.find(\"div\",class_='maincounter-number')\n",
    "    if coronavirus_cases_element:\n",
    "        coronavirus_cases.append(coronavirus_cases_element.text.strip())\n",
    "    deaths_element= entry.find(\"div\",class_='maincounter-number')\n",
    "    if deaths_element:\n",
    "        deaths.append(deaths_element.text.strip())\n",
    "    recovered_element = entry.find(\"div\",class_='maincounter-number')\n",
    "    if recovered_element:\n",
    "         recovered.append(recovered_element.text.strip())"
   ]
  },
  {
   "cell_type": "code",
   "execution_count": 10,
   "id": "b3e9c382",
   "metadata": {},
   "outputs": [],
   "source": [
    "data = {\n",
    "    \"Coronavirus_Cases\": coronavirus_cases,\n",
    "    \"Deaths \": deaths ,\n",
    "    \"Recovered \": recovered \n",
    "}"
   ]
  },
  {
   "cell_type": "code",
   "execution_count": 11,
   "id": "e1d124c8",
   "metadata": {},
   "outputs": [],
   "source": [
    "df = pd.DataFrame(data)"
   ]
  },
  {
   "cell_type": "code",
   "execution_count": 12,
   "id": "f83f531f",
   "metadata": {},
   "outputs": [
    {
     "data": {
      "text/html": [
       "<div>\n",
       "<style scoped>\n",
       "    .dataframe tbody tr th:only-of-type {\n",
       "        vertical-align: middle;\n",
       "    }\n",
       "\n",
       "    .dataframe tbody tr th {\n",
       "        vertical-align: top;\n",
       "    }\n",
       "\n",
       "    .dataframe thead th {\n",
       "        text-align: right;\n",
       "    }\n",
       "</style>\n",
       "<table border=\"1\" class=\"dataframe\">\n",
       "  <thead>\n",
       "    <tr style=\"text-align: right;\">\n",
       "      <th></th>\n",
       "      <th>Coronavirus_Cases</th>\n",
       "      <th>Deaths</th>\n",
       "      <th>Recovered</th>\n",
       "    </tr>\n",
       "  </thead>\n",
       "  <tbody>\n",
       "    <tr>\n",
       "      <th>0</th>\n",
       "      <td>2,481,404</td>\n",
       "      <td>2,481,404</td>\n",
       "      <td>2,481,404</td>\n",
       "    </tr>\n",
       "    <tr>\n",
       "      <th>1</th>\n",
       "      <td>1,727</td>\n",
       "      <td>1,727</td>\n",
       "      <td>1,727</td>\n",
       "    </tr>\n",
       "    <tr>\n",
       "      <th>2</th>\n",
       "      <td>2,149,583</td>\n",
       "      <td>2,149,583</td>\n",
       "      <td>2,149,583</td>\n",
       "    </tr>\n",
       "  </tbody>\n",
       "</table>\n",
       "</div>"
      ],
      "text/plain": [
       "  Coronavirus_Cases    Deaths  Recovered \n",
       "0         2,481,404  2,481,404  2,481,404\n",
       "1             1,727      1,727      1,727\n",
       "2         2,149,583  2,149,583  2,149,583"
      ]
     },
     "execution_count": 12,
     "metadata": {},
     "output_type": "execute_result"
    }
   ],
   "source": [
    "df"
   ]
  },
  {
   "cell_type": "code",
   "execution_count": 13,
   "id": "572d2849",
   "metadata": {},
   "outputs": [
    {
     "data": {
      "text/html": [
       "<div>\n",
       "<style scoped>\n",
       "    .dataframe tbody tr th:only-of-type {\n",
       "        vertical-align: middle;\n",
       "    }\n",
       "\n",
       "    .dataframe tbody tr th {\n",
       "        vertical-align: top;\n",
       "    }\n",
       "\n",
       "    .dataframe thead th {\n",
       "        text-align: right;\n",
       "    }\n",
       "</style>\n",
       "<table border=\"1\" class=\"dataframe\">\n",
       "  <thead>\n",
       "    <tr style=\"text-align: right;\">\n",
       "      <th></th>\n",
       "      <th>Coronavirus_Cases</th>\n",
       "      <th>Deaths</th>\n",
       "      <th>Recovered</th>\n",
       "    </tr>\n",
       "  </thead>\n",
       "  <tbody>\n",
       "    <tr>\n",
       "      <th>0</th>\n",
       "      <td>2,481,404</td>\n",
       "      <td>2,481,404</td>\n",
       "      <td>2,481,404</td>\n",
       "    </tr>\n",
       "    <tr>\n",
       "      <th>1</th>\n",
       "      <td>1,727</td>\n",
       "      <td>1,727</td>\n",
       "      <td>1,727</td>\n",
       "    </tr>\n",
       "    <tr>\n",
       "      <th>2</th>\n",
       "      <td>2,149,583</td>\n",
       "      <td>2,149,583</td>\n",
       "      <td>2,149,583</td>\n",
       "    </tr>\n",
       "  </tbody>\n",
       "</table>\n",
       "</div>"
      ],
      "text/plain": [
       "  Coronavirus_Cases    Deaths  Recovered \n",
       "0         2,481,404  2,481,404  2,481,404\n",
       "1             1,727      1,727      1,727\n",
       "2         2,149,583  2,149,583  2,149,583"
      ]
     },
     "execution_count": 13,
     "metadata": {},
     "output_type": "execute_result"
    }
   ],
   "source": [
    "df"
   ]
  },
  {
   "cell_type": "code",
   "execution_count": 14,
   "id": "136559b5",
   "metadata": {},
   "outputs": [],
   "source": [
    "df.to_csv(\"data_corona.csv\")"
   ]
  },
  {
   "cell_type": "code",
   "execution_count": null,
   "id": "2fd9fd1c",
   "metadata": {},
   "outputs": [],
   "source": []
  },
  {
   "cell_type": "code",
   "execution_count": null,
   "id": "206c264c",
   "metadata": {},
   "outputs": [],
   "source": []
  }
 ],
 "metadata": {
  "kernelspec": {
   "display_name": "Python 3 (ipykernel)",
   "language": "python",
   "name": "python3"
  },
  "language_info": {
   "codemirror_mode": {
    "name": "ipython",
    "version": 3
   },
   "file_extension": ".py",
   "mimetype": "text/x-python",
   "name": "python",
   "nbconvert_exporter": "python",
   "pygments_lexer": "ipython3",
   "version": "3.9.12"
  }
 },
 "nbformat": 4,
 "nbformat_minor": 5
}
